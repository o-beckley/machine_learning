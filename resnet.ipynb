{
  "nbformat": 4,
  "nbformat_minor": 0,
  "metadata": {
    "colab": {
      "provenance": [],
      "mount_file_id": "1Qi0EZCIFnBZDUQW2k7A4Ki0-MLy1bBbm",
      "authorship_tag": "ABX9TyO1geMAQ8JEbreDaZwCfm0w",
      "include_colab_link": true
    },
    "kernelspec": {
      "name": "python3",
      "display_name": "Python 3"
    },
    "language_info": {
      "name": "python"
    }
  },
  "cells": [
    {
      "cell_type": "markdown",
      "metadata": {
        "id": "view-in-github",
        "colab_type": "text"
      },
      "source": [
        "<a href=\"https://colab.research.google.com/github/o-beckley/machine_learning/blob/main/resnet.ipynb\" target=\"_parent\"><img src=\"https://colab.research.google.com/assets/colab-badge.svg\" alt=\"Open In Colab\"/></a>"
      ]
    },
    {
      "cell_type": "code",
      "execution_count": null,
      "metadata": {
        "id": "et4VuH7jgQya"
      },
      "outputs": [],
      "source": [
        "import tensorflow as tf\n",
        "from tensorflow.keras import layers\n",
        "from functools import partial\n",
        "\n",
        "DefaultConv2D = partial(layers.Conv2D, kernel_size=3, strides=1,\n",
        "                        padding='same', kernel_initializer='he_normal',\n",
        "                        use_bias=False)\n",
        "class ResidualUnit(tf.keras.layers.Layer):\n",
        "  def __init__(self, filters, strides=1, activation='relu', **kwargs):\n",
        "    super().__init__(**kwargs)\n",
        "    self.filters = filters\n",
        "    self.strides = strides\n",
        "    self.activation = tf.keras.activations.get(activation)\n",
        "    self.base = [\n",
        "        DefaultConv2D(filters, strides=strides),\n",
        "        layers.BatchNormalization(),\n",
        "        self.activation\n",
        "    ]\n",
        "    # self.base = tf.keras.Sequential([\n",
        "    #     DefaultConv2D(filters, strides=strides),\n",
        "    #     layers.BatchNormalization(),\n",
        "    #     self.activation\n",
        "    # ])\n",
        "    self.se_block = [\n",
        "        layers.GlobalAvgPool2D(input_shape=(None,None,filters)),\n",
        "        layers.Dense(int((filters/16)), activation='relu'),\n",
        "        layers.Dense((filters), activation='softmax'),\n",
        "    ]\n",
        "    # self.se_block = tf.keras.Sequential([\n",
        "    #     layers.GlobalAvgPool2D(input_shape=(None,None,filters)),\n",
        "    #     layers.Dense(int((filters/16)), activation='relu'),\n",
        "    #     layers.Dense((filters), activation='softmax'),\n",
        "    # ], name='se_block')\n",
        "\n",
        "    self.skip_layers = []\n",
        "    if strides > 1:\n",
        "      self.skip_layers = [\n",
        "          DefaultConv2D(filters, kernel_size=1, strides=strides),\n",
        "          layers.BatchNormalization()]\n",
        "\n",
        "\n",
        "\n",
        "  def call(self, inputs):\n",
        "    z = inputs\n",
        "    for layer in self.base:\n",
        "      z = layer(z)\n",
        "\n",
        "    se = z\n",
        "    for layer in self.se_block:\n",
        "      se = layer(se)\n",
        "\n",
        "    skip = inputs\n",
        "    for layer in self.skip_layers:\n",
        "      skip = layer(skip)\n",
        "\n",
        "    return self.activation(z*se + skip)"
      ]
    },
    {
      "cell_type": "code",
      "source": [
        "model = tf.keras.Sequential([\n",
        "    DefaultConv2D(filters=64, kernel_size=7, strides=2, input_shape=(224, 224, 3)),\n",
        "    layers.BatchNormalization(),\n",
        "    layers.Activation('relu'),\n",
        "    layers.MaxPool2D(pool_size=3, strides=2),\n",
        "])\n",
        "\n",
        "prev_filters = 64\n",
        "\n",
        "for filters in [64]*3 + [128]*4 + [256]*6 + [512]*3:\n",
        "  if filters == prev_filters:\n",
        "    model.add(ResidualUnit(filters))\n",
        "  else:\n",
        "    model.add(ResidualUnit(filters, strides=2))\n",
        "  prev_filters = filters\n",
        "model.add(layers.GlobalAvgPool2D())\n",
        "model.add(layers.Dense(1000, activation='softmax'))\n",
        "model.summary()"
      ],
      "metadata": {
        "colab": {
          "base_uri": "https://localhost:8080/"
        },
        "id": "SJKGwx29ourA",
        "outputId": "3f9659d5-38f7-4f05-a72f-b9385b6db09c"
      },
      "execution_count": null,
      "outputs": [
        {
          "output_type": "stream",
          "name": "stdout",
          "text": [
            "Model: \"sequential_8\"\n",
            "_________________________________________________________________\n",
            " Layer (type)                Output Shape              Param #   \n",
            "=================================================================\n",
            " conv2d_28 (Conv2D)          (None, 112, 112, 64)      9408      \n",
            "                                                                 \n",
            " batch_normalization_28 (Bat  (None, 112, 112, 64)     256       \n",
            " chNormalization)                                                \n",
            "                                                                 \n",
            " activation_4 (Activation)   (None, 112, 112, 64)      0         \n",
            "                                                                 \n",
            " max_pooling2d_4 (MaxPooling  (None, 55, 55, 64)       0         \n",
            " 2D)                                                             \n",
            "                                                                 \n",
            " residual_unit_21 (ResidualU  (None, 55, 55, 64)       37700     \n",
            " nit)                                                            \n",
            "                                                                 \n",
            " residual_unit_22 (ResidualU  (None, 55, 55, 64)       37700     \n",
            " nit)                                                            \n",
            "                                                                 \n",
            " residual_unit_23 (ResidualU  (None, 55, 55, 64)       37700     \n",
            " nit)                                                            \n",
            "                                                                 \n",
            " residual_unit_24 (ResidualU  (None, 28, 28, 128)      85128     \n",
            " nit)                                                            \n",
            "                                                                 \n",
            " residual_unit_25 (ResidualU  (None, 28, 28, 128)      150152    \n",
            " nit)                                                            \n",
            "                                                                 \n",
            " residual_unit_26 (ResidualU  (None, 28, 28, 128)      150152    \n",
            " nit)                                                            \n",
            "                                                                 \n",
            " residual_unit_27 (ResidualU  (None, 28, 28, 128)      150152    \n",
            " nit)                                                            \n",
            "                                                                 \n",
            " residual_unit_28 (ResidualU  (None, 14, 14, 256)      338192    \n",
            " nit)                                                            \n",
            "                                                                 \n",
            " residual_unit_29 (ResidualU  (None, 14, 14, 256)      599312    \n",
            " nit)                                                            \n",
            "                                                                 \n",
            " residual_unit_30 (ResidualU  (None, 14, 14, 256)      599312    \n",
            " nit)                                                            \n",
            "                                                                 \n",
            " residual_unit_31 (ResidualU  (None, 14, 14, 256)      599312    \n",
            " nit)                                                            \n",
            "                                                                 \n",
            " residual_unit_32 (ResidualU  (None, 14, 14, 256)      599312    \n",
            " nit)                                                            \n",
            "                                                                 \n",
            " residual_unit_33 (ResidualU  (None, 14, 14, 256)      599312    \n",
            " nit)                                                            \n",
            "                                                                 \n",
            " residual_unit_34 (ResidualU  (None, 7, 7, 512)        1348128   \n",
            " nit)                                                            \n",
            "                                                                 \n",
            " residual_unit_35 (ResidualU  (None, 7, 7, 512)        2394656   \n",
            " nit)                                                            \n",
            "                                                                 \n",
            " residual_unit_36 (ResidualU  (None, 7, 7, 512)        2394656   \n",
            " nit)                                                            \n",
            "                                                                 \n",
            " global_average_pooling2d_34  (None, 512)              0         \n",
            "  (GlobalAveragePooling2D)                                       \n",
            "                                                                 \n",
            " dense_67 (Dense)            (None, 1000)              513000    \n",
            "                                                                 \n",
            "=================================================================\n",
            "Total params: 10,643,540\n",
            "Trainable params: 10,634,068\n",
            "Non-trainable params: 9,472\n",
            "_________________________________________________________________\n"
          ]
        }
      ]
    },
    {
      "cell_type": "code",
      "source": [],
      "metadata": {
        "colab": {
          "base_uri": "https://localhost:8080/"
        },
        "id": "P55bZNuTaWQu",
        "outputId": "9d7af611-5974-413e-89d5-40b1f90ac11d"
      },
      "execution_count": null,
      "outputs": [
        {
          "output_type": "execute_result",
          "data": {
            "text/plain": [
              "<__main__.ResidualUnit at 0x7aa822d92680>"
            ]
          },
          "metadata": {},
          "execution_count": 9
        }
      ]
    }
  ]
}